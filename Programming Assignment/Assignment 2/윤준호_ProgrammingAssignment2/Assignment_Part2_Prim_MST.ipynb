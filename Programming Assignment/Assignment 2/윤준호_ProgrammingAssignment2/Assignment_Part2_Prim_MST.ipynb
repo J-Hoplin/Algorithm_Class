{
 "cells": [
  {
   "cell_type": "markdown",
   "id": "9ba3b05d",
   "metadata": {},
   "source": [
    "# Programming Assignment #2 - Part 2\n",
    "***\n",
    "학번 / 학과 : B889047 / 소프트웨어 융합학과\n",
    "\n",
    "작성자 : 윤준호\n",
    "***\n",
    "\n",
    "### Part 2\n",
    "\n",
    "Topic : Implement Prim's MST(Minimum Spanning Tree)알고리즘을 구현한다\n",
    "\n",
    "< Prim's Pseudo Code / Format: Scala language >\n",
    "\n",
    "```Scala\n",
    "\n",
    "Prim's MST algorithm --\n",
    "    Q ← V\n",
    "    key[v] ← ∞\n",
    "    key[s] ← 0 \n",
    "    while Q ≠ ∅\n",
    "     do u ← EXTRACT-MIN(Q)\n",
    "        for each v ∈ Adj[u] // Adjacency list \n",
    "            do if (v ∈ Q and w(u,v) > key[v] )\n",
    "                then key[v] ← w(u, v) // Decrease-Key operation \n",
    "                p[v] ← u\n",
    "```"
   ]
  },
  {
   "cell_type": "markdown",
   "id": "4b2f2076",
   "metadata": {},
   "source": [
    "**Install dependency packages from pip**"
   ]
  },
  {
   "cell_type": "code",
   "execution_count": 1,
   "id": "2a2e7fba",
   "metadata": {},
   "outputs": [
    {
     "name": "stdout",
     "output_type": "stream",
     "text": [
      "Requirement already satisfied: treelib in /Users/hoplin/opt/anaconda3/lib/python3.9/site-packages (from -r requirements.txt (line 1)) (1.6.1)\r\n",
      "Requirement already satisfied: networkx in /Users/hoplin/opt/anaconda3/lib/python3.9/site-packages (from -r requirements.txt (line 2)) (2.7.1)\r\n",
      "Requirement already satisfied: future in /Users/hoplin/opt/anaconda3/lib/python3.9/site-packages (from treelib->-r requirements.txt (line 1)) (0.18.2)\r\n"
     ]
    }
   ],
   "source": [
    "!pip3 install -r requirements.txt"
   ]
  },
  {
   "cell_type": "markdown",
   "id": "c7179fcd",
   "metadata": {},
   "source": [
    "### 들어가기 앞서\n",
    "\n",
    "결론적으로 프림알고리즘을 Part1의 우선순위 큐로 구현하는데 실패하였습니다.제가 작성한 우선순위 큐는 Object 혹은 Key-Value타입에 대한 것을 지원하지 못하는 우선순위 큐입니다.\n",
    "\n",
    "그렇기에 Value와 Key값을 병렬적으로 처리하려 하였으나, 이 방법에도 실패하였습니다. 조금 더 깊은 생각과 우선순위 큐의 더 넓은 범위의 범용성을 생각하여 재설계가 필요하다고 느꼈습니다. 해당 부분에 있어서는 학기 이후에 더 개선해 보도록 하겠습니다. **이로 인해 문제 A는 해결하지 못하였음을 알려드립니다**"
   ]
  },
  {
   "cell_type": "markdown",
   "id": "d62b5f74",
   "metadata": {},
   "source": [
    "### 아래 두 문제를 한번에 해결하는 과정을 보이겠습니다\n",
    "\n",
    "#### 문제 B\n",
    "\n",
    "Q : 위 알고리즘에는 경로 정보가 저장된다. MST를 찾은 경우 저장된 경로를 출력하는 프로그램을 작성해라\n",
    "\n",
    "#### 문제 C\n",
    "\n",
    "Q : 테스트 케이스를 하나 만들어 결과를 출력해 보인다."
   ]
  },
  {
   "cell_type": "markdown",
   "id": "5c6e289e",
   "metadata": {},
   "source": [
    "### 테스트로 사용할 인접행렬 형태의 그래프와 Prim Algorithm 인스턴스 생성하기\n",
    "\n",
    "- 작성한 프림 알고리즘 클래스의 생성자는 두개의 매개변수를 받습니다\n",
    "    \n",
    "    - 그래프\n",
    "        - change_graph(graph_matrix) 메소드로 그래프를 변경할 수 있습니다.\n",
    "    - 시작정점\n",
    "        - change_starting_node(node) 메소드로 시작정점을 변경할 수 있습니다."
   ]
  },
  {
   "cell_type": "code",
   "execution_count": 2,
   "id": "5dcf85d1",
   "metadata": {},
   "outputs": [],
   "source": [
    "from math import inf\n",
    "from PrimAlgorithm.PrimAlgorithm import PrimAlgorithm"
   ]
  },
  {
   "cell_type": "code",
   "execution_count": 3,
   "id": "d8aa9024",
   "metadata": {},
   "outputs": [],
   "source": [
    "# 그래프\n",
    "graph = [\n",
    "    [0, 2, 5, 1, inf, inf],\n",
    "    [2, 0, 3, 2, inf, inf],\n",
    "    [5, 3, 0, 3, 1, 5],\n",
    "    [1, 2, 3, 0, 1, inf],\n",
    "    [inf, inf, 1, 1, 0, 2],\n",
    "    [inf, inf, 5, inf, 2, 0]\n",
    "]\n",
    "# 시작노드\n",
    "starting_point = 0\n",
    "\n",
    "\n",
    "prim = PrimAlgorithm(graph,starting_point)"
   ]
  },
  {
   "cell_type": "markdown",
   "id": "4973dd02",
   "metadata": {},
   "source": [
    "### 테스트 케이스로 초기화한 그래프 Visualization\n",
    "\n",
    "테스트 케이스로 사용할 그래프를 시각화해 봅니다. 시각화하기 위해서는 PrimAlgorithm인스턴스의 visualizeInitialGraph() 메소드를 사용하면 됩니다"
   ]
  },
  {
   "cell_type": "code",
   "execution_count": 4,
   "id": "abcbe7c9",
   "metadata": {},
   "outputs": [
    {
     "data": {
      "image/png": "[encoded data removed]",
      "text/plain": [
       "<Figure size 432x288 with 1 Axes>"
      ]
     },
     "metadata": {},
     "output_type": "display_data"
    }
   ],
   "source": [
    "prim.visualizeInitialGraph()"
   ]
  },
  {
   "cell_type": "markdown",
   "id": "865203b6",
   "metadata": {},
   "source": [
    "### Prim MST Algorithm 실행 및 Summary 출력\n",
    "\n",
    "- PrimAlgorithm인스턴스의 prim()메소드를 실행하면 됩니다. prim()메소드는 프림 알고리즘 실행 후에 Summary 정보를 출력합니다.\n",
    "\n",
    "- Summary 정보는 아래와 같은 정보들을 출력합니다\n",
    "    \n",
    "    - MST를 이루는 간선들과 그 간선의 가중치\n",
    "    \n",
    "    - MST Visualization"
   ]
  },
  {
   "cell_type": "code",
   "execution_count": 5,
   "id": "67179cf5",
   "metadata": {},
   "outputs": [
    {
     "name": "stdout",
     "output_type": "stream",
     "text": [
      "[ Prim MST's edge information ]\n",
      "\n",
      "0 -> 3 | Weight : 1\n",
      "3 -> 4 | Weight : 1\n",
      "4 -> 2 | Weight : 1\n",
      "0 -> 1 | Weight : 2\n",
      "4 -> 5 | Weight : 2\n",
      "\n",
      "[ Prim MST's Visualization ]\n"
     ]
    },
    {
     "data": {
      "image/png": "[encoded data removed]",
      "text/plain": [
       "<Figure size 432x288 with 1 Axes>"
      ]
     },
     "metadata": {},
     "output_type": "display_data"
    }
   ],
   "source": [
    "prim.prim()"
   ]
  }
 ],
 "metadata": {
  "kernelspec": {
   "display_name": "Python 3 (ipykernel)",
   "language": "python",
   "name": "python3"
  },
  "language_info": {
   "codemirror_mode": {
    "name": "ipython",
    "version": 3
   },
   "file_extension": ".py",
   "mimetype": "text/x-python",
   "name": "python",
   "nbconvert_exporter": "python",
   "pygments_lexer": "ipython3",
   "version": "3.9.12"
  }
 },
 "nbformat": 4,
 "nbformat_minor": 5
}
