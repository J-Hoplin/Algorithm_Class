{
 "cells": [
  {
   "cell_type": "markdown",
   "id": "fa5a0c02",
   "metadata": {},
   "source": [
    "# Programming Assignment #2 - Part 1\n",
    "***\n",
    "학번 / 학과 : B889047 / 소프트웨어 융합학과\n",
    "\n",
    "작성자 : 윤준호\n",
    "***\n",
    "\n",
    "### Part 1\n",
    "\n",
    "**Topic : Implement Priority Queue using 'Heap' ADT**\n",
    "\n",
    "#### Least required operations\n",
    "    \n",
    "    - Insert(Q,k) : 키값 k를 큐 Q에 추가한다\n",
    "    - Delete(Q,k) : 키값 k를 큐 Q에서 제거한다\n",
    "    - ExtractMin(Q) : 가장 키값이 작은 원소의 키값을 제거하고 그 키값을 리턴한다\n",
    "    - IncreaseKey(Q,k,v) : 키값 k 를 가진 원소의 키 값을 증가된 키값 v로 바꾼다\n",
    "    - DecreaseKey(Q,k,v) : 키값 k 를 가진 원소의 키 값을 감소된 키값 v로 바꾼다\n",
    "    \n",
    "\n",
    "#### Implement Priority Queue using Polymorhpic type\n",
    "    \n",
    "    - 여기서 다형성 준수는, 분기문에 의한 다형성 준수이다."
   ]
  },
  {
   "cell_type": "markdown",
   "id": "df831ac5",
   "metadata": {},
   "source": [
    "**Install dependency packages from pip**"
   ]
  },
  {
   "cell_type": "code",
   "execution_count": 1,
   "id": "bf917ad8",
   "metadata": {},
   "outputs": [
    {
     "name": "stdout",
     "output_type": "stream",
     "text": [
      "Requirement already satisfied: treelib in /Users/hoplin/opt/anaconda3/lib/python3.9/site-packages (from -r requirements.txt (line 1)) (1.6.1)\r\n",
      "Requirement already satisfied: future in /Users/hoplin/opt/anaconda3/lib/python3.9/site-packages (from treelib->-r requirements.txt (line 1)) (0.18.2)\r\n"
     ]
    }
   ],
   "source": [
    "!pip3 install -r requirements.txt"
   ]
  },
  {
   "cell_type": "markdown",
   "id": "8cf584da",
   "metadata": {},
   "source": [
    "## Priorty Queue 모듈 import 하기\n",
    "\n",
    "- 이 Priority Queue모듈은 Heap모듈에 의존성을 가집니다"
   ]
  },
  {
   "cell_type": "code",
   "execution_count": 2,
   "id": "bbf1c264",
   "metadata": {},
   "outputs": [],
   "source": [
    "from PriQueue.priorityqueue import PriorityQueue"
   ]
  },
  {
   "cell_type": "markdown",
   "id": "ecc301a9",
   "metadata": {},
   "source": [
    "- Class Document를 출력합니다"
   ]
  },
  {
   "cell_type": "code",
   "execution_count": 3,
   "id": "330dbe30",
   "metadata": {},
   "outputs": [
    {
     "name": "stdout",
     "output_type": "stream",
     "text": [
      "Help on class PriorityQueue in module PriQueue.priorityqueue:\n",
      "\n",
      "class PriorityQueue(builtins.object)\n",
      " |  PriorityQueue(initial_sequence: MutableSequence, heap_type: str = 'max')\n",
      " |  \n",
      " |  < Class Document : Priority Queue >\n",
      " |  \n",
      " |  - 부모클래스 : object\n",
      " |  - 의존성 : Heap,MaxHeap,MinHeap\n",
      " |  \n",
      " |  < Exception Class >\n",
      " |  \n",
      " |  - WrongConstructorOptionException\n",
      " |      Description:\n",
      " |          PriortyQueue생성자에게 heap_type매개변수를 넘길때 잘못된 타입을 넘기게 될 경우에 이 예외가 발생됩니다\n",
      " |  \n",
      " |  < Methods >\n",
      " |  \n",
      " |  - __init__(self,initial_sequence:MutableSequence,heap_type:str=\"max\")\n",
      " |      Description:\n",
      " |          생성자 클래스입니다\n",
      " |      Args:\n",
      " |          initial_sequence: 초기화하고싶은 우선순위 큐를 넘겨줍니다. MutableSequence타입이어야 합니다\n",
      " |          heap_type: heap 종류를 선택합니다. 매개변수는 \"max\", \"min\" 만 분기할 수 있습니다\n",
      " |      Raises:\n",
      " |          PriorityQueue.WrongConstructorOptionException\n",
      " |  \n",
      " |  - __str__(self)\n",
      " |      Description:\n",
      " |          객체 정보 문자열을 반환합니다\n",
      " |  \n",
      " |  - __call__(self)\n",
      " |      Description:\n",
      " |          큐를 리스트로 반환합니다\n",
      " |  \n",
      " |  - insert(self,k)\n",
      " |      Description:\n",
      " |          큐에 k를 추가합니다\n",
      " |      Args:\n",
      " |          k: 큐에 추가할 값입니다\n",
      " |  \n",
      " |  - delete(self,k)\n",
      " |      Description:\n",
      " |          큐에서 k를 제거합니다\n",
      " |      Args:\n",
      " |          k: 큐에서 제거할 값입니다.\n",
      " |  \n",
      " |  - extractMin(self)\n",
      " |      Description:\n",
      " |          큐에서 키값이 가장 작은 원소의 키 값을 제거하고, 그 키값을 리턴합니다\n",
      " |  \n",
      " |  - increase_key(self,k:int,v:int)\n",
      " |      Description:\n",
      " |          키값 k를 가진 원소의 키 값을 증가된 키 값 v로 바꿉니다.\n",
      " |      Args:\n",
      " |          k: 기존 키값\n",
      " |          v: 증가된 키값\n",
      " |      Rasies:\n",
      " |          Heap.WrongLogicException\n",
      " |  \n",
      " |  - decrease_key(self,k:int,v:int)\n",
      " |      Description:\n",
      " |          키값 k를 가진 원소의 키 값을 증가된 키값 v로 바꿉니다.\n",
      " |      Args:\n",
      " |          k: 기존 키값\n",
      " |          v: 증가된 키값\n",
      " |      Raises:\n",
      " |          Heap.WrongLogicException\n",
      " |  \n",
      " |  - convert_heap_type(self)\n",
      " |      Description:\n",
      " |          Heap Type을 변경합니다.\n",
      " |  \n",
      " |  -\n",
      " |  \n",
      " |  Methods defined here:\n",
      " |  \n",
      " |  __call__(self) -> MutableSequence\n",
      " |      Call self as a function.\n",
      " |  \n",
      " |  __init__(self, initial_sequence: MutableSequence, heap_type: str = 'max')\n",
      " |      Initialize self.  See help(type(self)) for accurate signature.\n",
      " |  \n",
      " |  __str__(self) -> str\n",
      " |      Return str(self).\n",
      " |  \n",
      " |  clear_queue(self)\n",
      " |  \n",
      " |  convert_heap_type(self)\n",
      " |  \n",
      " |  decrease_key(self, k: int, v: int)\n",
      " |  \n",
      " |  delete(self, k) -> None\n",
      " |  \n",
      " |  extractMin(self) -> int\n",
      " |  \n",
      " |  increase_key(self, k: int, v: int) -> None\n",
      " |  \n",
      " |  insert(self, k) -> None\n",
      " |  \n",
      " |  show_in_tree(self)\n",
      " |  \n",
      " |  ----------------------------------------------------------------------\n",
      " |  Data descriptors defined here:\n",
      " |  \n",
      " |  __dict__\n",
      " |      dictionary for instance variables (if defined)\n",
      " |  \n",
      " |  __weakref__\n",
      " |      list of weak references to the object (if defined)\n",
      " |  \n",
      " |  ----------------------------------------------------------------------\n",
      " |  Data and other attributes defined here:\n",
      " |  \n",
      " |  WrongConstructorOptionException = <class 'PriQueue.priorityqueue.Prior...\n",
      " |      # Exception class about __init__ 'heaptype' parameter\n",
      "\n"
     ]
    }
   ],
   "source": [
    "help(PriorityQueue)"
   ]
  },
  {
   "cell_type": "markdown",
   "id": "98d302e9",
   "metadata": {},
   "source": [
    "## Priority Queue using Max Heap\n",
    "\n",
    "- PriorityQueue 인스턴스를 생성합니다. 최대힙을 이용한 우선순위큐를 생성해 봅니다."
   ]
  },
  {
   "cell_type": "code",
   "execution_count": 4,
   "id": "a3a77b5f",
   "metadata": {},
   "outputs": [],
   "source": [
    "pq = PriorityQueue([],\"max\")"
   ]
  },
  {
   "cell_type": "markdown",
   "id": "dda499b9",
   "metadata": {},
   "source": [
    "### Insert(k) 연산 수행하기\n",
    "\n",
    "- PriorityQueue에 10개의 원소를 insert해보겠습니다"
   ]
  },
  {
   "cell_type": "code",
   "execution_count": 5,
   "id": "6d1659d1",
   "metadata": {},
   "outputs": [],
   "source": [
    "pq.insert(6)\n",
    "pq.insert(4)\n",
    "pq.insert(5)\n",
    "pq.insert(9)\n",
    "pq.insert(1)\n",
    "pq.insert(10)\n",
    "pq.insert(4)\n",
    "pq.insert(3)\n",
    "pq.insert(1)\n",
    "pq.insert(8)"
   ]
  },
  {
   "cell_type": "markdown",
   "id": "7796bfec",
   "metadata": {},
   "source": [
    "- 우선순위큐를 출력해보겠습니다"
   ]
  },
  {
   "cell_type": "code",
   "execution_count": 6,
   "id": "0a5852b1",
   "metadata": {},
   "outputs": [
    {
     "data": {
      "text/plain": [
       "[10, 8, 9, 4, 6, 5, 4, 3, 1, 1]"
      ]
     },
     "execution_count": 6,
     "metadata": {},
     "output_type": "execute_result"
    }
   ],
   "source": [
    "pq()"
   ]
  },
  {
   "cell_type": "markdown",
   "id": "8c4a3404",
   "metadata": {},
   "source": [
    "- 이 우선순위 큐를 완전 이진트리로 출력하면 아래와 같습니다. 완전 이진트리를 만족하면서,Max Heap을 만족하고 있는것을 볼 수 있습니다."
   ]
  },
  {
   "cell_type": "code",
   "execution_count": 7,
   "id": "52c50e2c",
   "metadata": {},
   "outputs": [
    {
     "name": "stdout",
     "output_type": "stream",
     "text": [
      "10\n",
      "├── 8\n",
      "│   ├── 4\n",
      "│   │   ├── 1\n",
      "│   │   └── 3\n",
      "│   └── 6\n",
      "│       └── 1\n",
      "└── 9\n",
      "    ├── 4\n",
      "    └── 5\n",
      "\n"
     ]
    }
   ],
   "source": [
    "pq.show_in_tree()"
   ]
  },
  {
   "cell_type": "markdown",
   "id": "2803232c",
   "metadata": {},
   "source": [
    "<img src=\"img/tree.jpeg\">"
   ]
  },
  {
   "cell_type": "markdown",
   "id": "d81b03f5",
   "metadata": {},
   "source": [
    "### Delete(k)연산 수행하기\n",
    "\n",
    "- 3,6,9를 삭제해 보겠습니다. 각 단계별로 우선순위 큐가 어떻게 변하는지 출력해 보겠습니다\n",
    "- Delete연산을 수행 하고 난 이후에도 완전 이진트리 형태를 갖추고 있어야 합니다."
   ]
  },
  {
   "cell_type": "code",
   "execution_count": 8,
   "id": "8d1d80cf",
   "metadata": {},
   "outputs": [
    {
     "data": {
      "text/plain": [
       "[10, 8, 9, 4, 6, 5, 4, 1, 1]"
      ]
     },
     "execution_count": 8,
     "metadata": {},
     "output_type": "execute_result"
    }
   ],
   "source": [
    "pq.delete(3)\n",
    "pq()"
   ]
  },
  {
   "cell_type": "code",
   "execution_count": 9,
   "id": "5824f867",
   "metadata": {},
   "outputs": [
    {
     "name": "stdout",
     "output_type": "stream",
     "text": [
      "10\n",
      "├── 8\n",
      "│   ├── 4\n",
      "│   │   ├── 1\n",
      "│   │   └── 1\n",
      "│   └── 6\n",
      "└── 9\n",
      "    ├── 4\n",
      "    └── 5\n",
      "\n"
     ]
    }
   ],
   "source": [
    "pq.show_in_tree()"
   ]
  },
  {
   "cell_type": "code",
   "execution_count": 10,
   "id": "5d998702",
   "metadata": {},
   "outputs": [
    {
     "data": {
      "text/plain": [
       "[10, 8, 9, 4, 1, 5, 4, 1]"
      ]
     },
     "execution_count": 10,
     "metadata": {},
     "output_type": "execute_result"
    }
   ],
   "source": [
    "pq.delete(6)\n",
    "pq()"
   ]
  },
  {
   "cell_type": "code",
   "execution_count": 11,
   "id": "65e287c0",
   "metadata": {},
   "outputs": [
    {
     "name": "stdout",
     "output_type": "stream",
     "text": [
      "10\n",
      "├── 8\n",
      "│   ├── 1\n",
      "│   └── 4\n",
      "│       └── 1\n",
      "└── 9\n",
      "    ├── 4\n",
      "    └── 5\n",
      "\n"
     ]
    }
   ],
   "source": [
    "pq.show_in_tree()"
   ]
  },
  {
   "cell_type": "code",
   "execution_count": 12,
   "id": "76e4e75a",
   "metadata": {},
   "outputs": [
    {
     "data": {
      "text/plain": [
       "[10, 8, 5, 4, 1, 1, 4]"
      ]
     },
     "execution_count": 12,
     "metadata": {},
     "output_type": "execute_result"
    }
   ],
   "source": [
    "pq.delete(9)\n",
    "pq()"
   ]
  },
  {
   "cell_type": "code",
   "execution_count": 13,
   "id": "933a9ec1",
   "metadata": {},
   "outputs": [
    {
     "name": "stdout",
     "output_type": "stream",
     "text": [
      "10\n",
      "├── 5\n",
      "│   ├── 1\n",
      "│   └── 4\n",
      "└── 8\n",
      "    ├── 1\n",
      "    └── 4\n",
      "\n"
     ]
    }
   ],
   "source": [
    "pq.show_in_tree()"
   ]
  },
  {
   "cell_type": "markdown",
   "id": "c3d760c3",
   "metadata": {},
   "source": [
    "### IncreaseKey(k,v)연산 수행하기\n",
    "\n",
    "- 1을 7로, 8을 11로 바꿔보겠습니다\n",
    "- 만약 v값이 k보다 작거나 같은 값인 경우에는 Heap.WrongLogicException을 발생시킵니다"
   ]
  },
  {
   "cell_type": "code",
   "execution_count": 14,
   "id": "cec5eeb8",
   "metadata": {},
   "outputs": [
    {
     "data": {
      "text/plain": [
       "[10, 8, 5, 4, 7, 1, 4]"
      ]
     },
     "execution_count": 14,
     "metadata": {},
     "output_type": "execute_result"
    }
   ],
   "source": [
    "#pq.increase_key(1,0) #이 문을 실행하면 Heap.WrongLogicException을 발생시킨다\n",
    "\n",
    "pq.increase_key(1,7)\n",
    "pq()"
   ]
  },
  {
   "cell_type": "code",
   "execution_count": 15,
   "id": "f314ac89",
   "metadata": {},
   "outputs": [
    {
     "name": "stdout",
     "output_type": "stream",
     "text": [
      "10\n",
      "├── 5\n",
      "│   ├── 1\n",
      "│   └── 4\n",
      "└── 8\n",
      "    ├── 4\n",
      "    └── 7\n",
      "\n"
     ]
    }
   ],
   "source": [
    "pq.show_in_tree()"
   ]
  },
  {
   "cell_type": "code",
   "execution_count": 16,
   "id": "7e45bb9c",
   "metadata": {},
   "outputs": [
    {
     "data": {
      "text/plain": [
       "[11, 10, 5, 4, 7, 1, 4]"
      ]
     },
     "execution_count": 16,
     "metadata": {},
     "output_type": "execute_result"
    }
   ],
   "source": [
    "pq.increase_key(8,11)\n",
    "pq()"
   ]
  },
  {
   "cell_type": "code",
   "execution_count": 17,
   "id": "ba7f88b9",
   "metadata": {},
   "outputs": [
    {
     "name": "stdout",
     "output_type": "stream",
     "text": [
      "11\n",
      "├── 5\n",
      "│   ├── 1\n",
      "│   └── 4\n",
      "└── 10\n",
      "    ├── 4\n",
      "    └── 7\n",
      "\n"
     ]
    }
   ],
   "source": [
    "pq.show_in_tree()"
   ]
  },
  {
   "cell_type": "markdown",
   "id": "8c36b4ae",
   "metadata": {},
   "source": [
    "### DecreaseKey(k,v) 수행하기\n",
    "\n",
    "- 10을 2로,5를 3으로 바꿔보겠습니다\n",
    "- 만약 v값이 k보다 크거나 같으면 Heap.WrongLogicException을 발생시킵니다"
   ]
  },
  {
   "cell_type": "code",
   "execution_count": 18,
   "id": "6f4fa6a2",
   "metadata": {},
   "outputs": [
    {
     "data": {
      "text/plain": [
       "[11, 7, 5, 4, 2, 1, 4]"
      ]
     },
     "execution_count": 18,
     "metadata": {},
     "output_type": "execute_result"
    }
   ],
   "source": [
    "# pq.decrease_key(10,20) # 이 문을 실행시키면 Heap.WrongLogicException을 발생시킵니다\n",
    "pq.decrease_key(10,2)\n",
    "pq()"
   ]
  },
  {
   "cell_type": "code",
   "execution_count": 19,
   "id": "470ce479",
   "metadata": {},
   "outputs": [
    {
     "name": "stdout",
     "output_type": "stream",
     "text": [
      "11\n",
      "├── 5\n",
      "│   ├── 1\n",
      "│   └── 4\n",
      "└── 7\n",
      "    ├── 2\n",
      "    └── 4\n",
      "\n"
     ]
    }
   ],
   "source": [
    "pq.show_in_tree()"
   ]
  },
  {
   "cell_type": "code",
   "execution_count": 20,
   "id": "31c99a74",
   "metadata": {},
   "outputs": [
    {
     "data": {
      "text/plain": [
       "[11, 7, 4, 4, 2, 1, 3]"
      ]
     },
     "execution_count": 20,
     "metadata": {},
     "output_type": "execute_result"
    }
   ],
   "source": [
    "pq.decrease_key(5,3)\n",
    "pq()"
   ]
  },
  {
   "cell_type": "code",
   "execution_count": 21,
   "id": "cd12d327",
   "metadata": {},
   "outputs": [
    {
     "name": "stdout",
     "output_type": "stream",
     "text": [
      "11\n",
      "├── 4\n",
      "│   ├── 1\n",
      "│   └── 3\n",
      "└── 7\n",
      "    ├── 2\n",
      "    └── 4\n",
      "\n"
     ]
    }
   ],
   "source": [
    "pq.show_in_tree()"
   ]
  },
  {
   "cell_type": "markdown",
   "id": "c7138b4c",
   "metadata": {},
   "source": [
    "## Priority Queue using Min Heap\n",
    "\n",
    "- 위에서 사용하였던 우선순위큐인스턴스 pq에 대해 convert_heap_type()으로 MinHeap 사용 우선순위큐로 바꿉니다\n",
    "- 그 후 큐를 비워줍니다"
   ]
  },
  {
   "cell_type": "code",
   "execution_count": 22,
   "id": "74abba30",
   "metadata": {},
   "outputs": [
    {
     "name": "stdout",
     "output_type": "stream",
     "text": [
      "<MaxHeap_Object_0x105b29970 [11, 7, 4, 4, 2, 1, 3]>\n",
      "<MinHeap_Object_0x105b50580 [1, 2, 3, 4, 7, 4, 11]>\n"
     ]
    }
   ],
   "source": [
    "print(pq.heap)\n",
    "pq.convert_heap_type()\n",
    "print(pq.heap)"
   ]
  },
  {
   "cell_type": "code",
   "execution_count": 23,
   "id": "422232de",
   "metadata": {},
   "outputs": [],
   "source": [
    "pq.clear_queue()"
   ]
  },
  {
   "cell_type": "code",
   "execution_count": 24,
   "id": "08619f58",
   "metadata": {},
   "outputs": [
    {
     "name": "stdout",
     "output_type": "stream",
     "text": [
      "<MinHeap_Object_0x105b50580 []>\n"
     ]
    }
   ],
   "source": [
    "print(pq.heap)"
   ]
  },
  {
   "cell_type": "markdown",
   "id": "54e472fe",
   "metadata": {},
   "source": [
    "### Insert(k) 연산 수행하기\n",
    "\n",
    "- 위에서 추가했던 10개의 원소를 동일하게 insert해보겠습니다"
   ]
  },
  {
   "cell_type": "code",
   "execution_count": 25,
   "id": "381d6282",
   "metadata": {},
   "outputs": [],
   "source": [
    "pq.insert(6)\n",
    "pq.insert(4)\n",
    "pq.insert(5)\n",
    "pq.insert(9)\n",
    "pq.insert(1)\n",
    "pq.insert(10)\n",
    "pq.insert(4)\n",
    "pq.insert(3)\n",
    "pq.insert(1)\n",
    "pq.insert(8)"
   ]
  },
  {
   "cell_type": "code",
   "execution_count": 26,
   "id": "e4e7f3fb",
   "metadata": {},
   "outputs": [
    {
     "data": {
      "text/plain": [
       "[1, 1, 4, 3, 6, 10, 5, 9, 4, 8]"
      ]
     },
     "execution_count": 26,
     "metadata": {},
     "output_type": "execute_result"
    }
   ],
   "source": [
    "pq()"
   ]
  },
  {
   "cell_type": "code",
   "execution_count": 27,
   "id": "22c3670d",
   "metadata": {},
   "outputs": [
    {
     "name": "stdout",
     "output_type": "stream",
     "text": [
      "1\n",
      "├── 1\n",
      "│   ├── 3\n",
      "│   │   ├── 4\n",
      "│   │   └── 9\n",
      "│   └── 6\n",
      "│       └── 8\n",
      "└── 4\n",
      "    ├── 5\n",
      "    └── 10\n",
      "\n"
     ]
    }
   ],
   "source": [
    "pq.show_in_tree()"
   ]
  },
  {
   "cell_type": "markdown",
   "id": "9bffc7cb",
   "metadata": {},
   "source": [
    "<img src=\"img/tree2.jpeg\">"
   ]
  },
  {
   "cell_type": "markdown",
   "id": "5d3f8fc9",
   "metadata": {},
   "source": [
    "### Delete(k)연산 수행하기\n",
    "\n",
    "- 3,6,9를 삭제해 보겠습니다. 각 단계별로 우선순위 큐가 어떻게 변하는지 출력해 보겠습니다\n",
    "- Delete연산을 수행 하고 난 이후에도 완전 이진트리 형태를 갖추고 있어야 합니다."
   ]
  },
  {
   "cell_type": "code",
   "execution_count": 28,
   "id": "f3cf34a2",
   "metadata": {},
   "outputs": [
    {
     "data": {
      "text/plain": [
       "[1, 1, 4, 4, 6, 10, 5, 9, 8]"
      ]
     },
     "execution_count": 28,
     "metadata": {},
     "output_type": "execute_result"
    }
   ],
   "source": [
    "pq.delete(3)\n",
    "pq()"
   ]
  },
  {
   "cell_type": "code",
   "execution_count": 29,
   "id": "c6ee5813",
   "metadata": {},
   "outputs": [
    {
     "name": "stdout",
     "output_type": "stream",
     "text": [
      "1\n",
      "├── 1\n",
      "│   ├── 4\n",
      "│   │   ├── 8\n",
      "│   │   └── 9\n",
      "│   └── 6\n",
      "└── 4\n",
      "    ├── 5\n",
      "    └── 10\n",
      "\n"
     ]
    }
   ],
   "source": [
    "pq.show_in_tree()"
   ]
  },
  {
   "cell_type": "code",
   "execution_count": 30,
   "id": "4083017c",
   "metadata": {},
   "outputs": [
    {
     "data": {
      "text/plain": [
       "[1, 1, 4, 4, 8, 10, 5, 9]"
      ]
     },
     "execution_count": 30,
     "metadata": {},
     "output_type": "execute_result"
    }
   ],
   "source": [
    "pq.delete(6)\n",
    "pq()"
   ]
  },
  {
   "cell_type": "code",
   "execution_count": 31,
   "id": "ed34ec1b",
   "metadata": {},
   "outputs": [
    {
     "name": "stdout",
     "output_type": "stream",
     "text": [
      "1\n",
      "├── 1\n",
      "│   ├── 4\n",
      "│   │   └── 9\n",
      "│   └── 8\n",
      "└── 4\n",
      "    ├── 5\n",
      "    └── 10\n",
      "\n"
     ]
    }
   ],
   "source": [
    "pq.show_in_tree()"
   ]
  },
  {
   "cell_type": "code",
   "execution_count": 32,
   "id": "2e497491",
   "metadata": {},
   "outputs": [
    {
     "data": {
      "text/plain": [
       "[1, 1, 4, 4, 8, 10, 5]"
      ]
     },
     "execution_count": 32,
     "metadata": {},
     "output_type": "execute_result"
    }
   ],
   "source": [
    "pq.delete(9)\n",
    "pq()"
   ]
  },
  {
   "cell_type": "code",
   "execution_count": 33,
   "id": "4359005d",
   "metadata": {},
   "outputs": [
    {
     "name": "stdout",
     "output_type": "stream",
     "text": [
      "1\n",
      "├── 1\n",
      "│   ├── 4\n",
      "│   └── 8\n",
      "└── 4\n",
      "    ├── 5\n",
      "    └── 10\n",
      "\n"
     ]
    }
   ],
   "source": [
    "pq.show_in_tree()"
   ]
  },
  {
   "cell_type": "markdown",
   "id": "4c449120",
   "metadata": {},
   "source": [
    "### IncreaseKey(k,v)연산 수행하기\n",
    "\n",
    "- 1을 7로, 8을 11로 바꿔보겠습니다\n",
    "- 만약 v값이 k보다 작거나 같은 값인 경우에는 Heap.WrongLogicException을 발생시킵니다"
   ]
  },
  {
   "cell_type": "code",
   "execution_count": 34,
   "id": "318caaff",
   "metadata": {},
   "outputs": [
    {
     "data": {
      "text/plain": [
       "[1, 4, 4, 7, 8, 10, 5]"
      ]
     },
     "execution_count": 34,
     "metadata": {},
     "output_type": "execute_result"
    }
   ],
   "source": [
    "pq.increase_key(1,7)\n",
    "pq()"
   ]
  },
  {
   "cell_type": "code",
   "execution_count": 35,
   "id": "05f9888f",
   "metadata": {},
   "outputs": [
    {
     "name": "stdout",
     "output_type": "stream",
     "text": [
      "1\n",
      "├── 4\n",
      "│   ├── 7\n",
      "│   └── 8\n",
      "└── 4\n",
      "    ├── 5\n",
      "    └── 10\n",
      "\n"
     ]
    }
   ],
   "source": [
    "pq.show_in_tree()"
   ]
  },
  {
   "cell_type": "code",
   "execution_count": 36,
   "id": "16768364",
   "metadata": {},
   "outputs": [
    {
     "data": {
      "text/plain": [
       "[1, 4, 4, 7, 11, 10, 5]"
      ]
     },
     "execution_count": 36,
     "metadata": {},
     "output_type": "execute_result"
    }
   ],
   "source": [
    "pq.increase_key(8,11)\n",
    "pq()"
   ]
  },
  {
   "cell_type": "code",
   "execution_count": 37,
   "id": "9b690f3a",
   "metadata": {},
   "outputs": [
    {
     "name": "stdout",
     "output_type": "stream",
     "text": [
      "1\n",
      "├── 4\n",
      "│   ├── 7\n",
      "│   └── 11\n",
      "└── 4\n",
      "    ├── 5\n",
      "    └── 10\n",
      "\n"
     ]
    }
   ],
   "source": [
    "pq.show_in_tree()"
   ]
  },
  {
   "cell_type": "markdown",
   "id": "cd702047",
   "metadata": {},
   "source": [
    "### DecreaseKey(k,v) 수행하기\n",
    "\n",
    "- 10을 2로,5를 3으로 바꿔보겠습니다\n",
    "- 만약 v값이 k보다 크거나 같으면 Heap.WrongLogicException을 발생시킵니다"
   ]
  },
  {
   "cell_type": "code",
   "execution_count": 38,
   "id": "189b26d5",
   "metadata": {},
   "outputs": [
    {
     "data": {
      "text/plain": [
       "[1, 4, 2, 7, 11, 4, 5]"
      ]
     },
     "execution_count": 38,
     "metadata": {},
     "output_type": "execute_result"
    }
   ],
   "source": [
    "pq.decrease_key(10,2)\n",
    "pq()"
   ]
  },
  {
   "cell_type": "code",
   "execution_count": 39,
   "id": "f90aae62",
   "metadata": {},
   "outputs": [
    {
     "name": "stdout",
     "output_type": "stream",
     "text": [
      "1\n",
      "├── 2\n",
      "│   ├── 4\n",
      "│   └── 5\n",
      "└── 4\n",
      "    ├── 7\n",
      "    └── 11\n",
      "\n"
     ]
    }
   ],
   "source": [
    "pq.show_in_tree()"
   ]
  },
  {
   "cell_type": "code",
   "execution_count": 40,
   "id": "975f1f7e",
   "metadata": {},
   "outputs": [
    {
     "data": {
      "text/plain": [
       "[1, 4, 2, 7, 11, 4, 3]"
      ]
     },
     "execution_count": 40,
     "metadata": {},
     "output_type": "execute_result"
    }
   ],
   "source": [
    "pq.decrease_key(5,3)\n",
    "pq()"
   ]
  },
  {
   "cell_type": "code",
   "execution_count": 41,
   "id": "8c3b6010",
   "metadata": {},
   "outputs": [
    {
     "name": "stdout",
     "output_type": "stream",
     "text": [
      "1\n",
      "├── 2\n",
      "│   ├── 3\n",
      "│   └── 4\n",
      "└── 4\n",
      "    ├── 7\n",
      "    └── 11\n",
      "\n"
     ]
    }
   ],
   "source": [
    "pq.show_in_tree()"
   ]
  }
 ],
 "metadata": {
  "kernelspec": {
   "display_name": "Python 3 (ipykernel)",
   "language": "python",
   "name": "python3"
  },
  "language_info": {
   "codemirror_mode": {
    "name": "ipython",
    "version": 3
   },
   "file_extension": ".py",
   "mimetype": "text/x-python",
   "name": "python",
   "nbconvert_exporter": "python",
   "pygments_lexer": "ipython3",
   "version": "3.9.12"
  }
 },
 "nbformat": 4,
 "nbformat_minor": 5
}
